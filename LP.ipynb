{
 "cells": [
  {
   "cell_type": "markdown",
   "id": "7852a268-efc2-4dce-ae57-c6a1860c49ec",
   "metadata": {},
   "source": [
    "# Task Allocation Problem in Human Robot Collaboration"
   ]
  },
  {
   "cell_type": "code",
   "execution_count": 3,
   "id": "5e78ab34-ec5d-462d-8b9a-0e5fa3cfb3b8",
   "metadata": {},
   "outputs": [],
   "source": [
    "import pulp\n",
    "import numpy as np"
   ]
  },
  {
   "cell_type": "markdown",
   "id": "f37f33a1-eb8e-4c4c-94e5-619e538fd1b1",
   "metadata": {},
   "source": [
    "## 1. Indices"
   ]
  },
  {
   "cell_type": "code",
   "execution_count": 4,
   "id": "8a2a13fb-68e3-41b2-9bae-dcfea578a5c4",
   "metadata": {},
   "outputs": [],
   "source": [
    "num_tasks = 8\n",
    "agents = ['L', 'R', 'B']\n",
    "tasks = ['T'+str(k+1) for k in range(num_tasks)]\n",
    "assign = [(i, k)  for i in tasks for k in agents]\n",
    "pred = [(i, j, k) for k in agents for j in tasks for i in tasks if i != j]"
   ]
  },
  {
   "cell_type": "markdown",
   "id": "501f658c-527c-4e75-940c-4ae146a4a7c0",
   "metadata": {},
   "source": [
    "## 2. Dependent Tasks and Simutanious Tasks"
   ]
  },
  {
   "cell_type": "code",
   "execution_count": 5,
   "id": "aa467525-b538-432c-9584-f1210b84c329",
   "metadata": {},
   "outputs": [],
   "source": [
    "dept_tasks = [('T1', 'T2'), ('T1', 'T3')]\n",
    "simu_tasks = [('T2', 'T3'), ('T2', 'T4')]"
   ]
  },
  {
   "cell_type": "markdown",
   "id": "d6358bf1-c706-4380-a152-2f8d9c9f0e52",
   "metadata": {},
   "source": [
    "## 3. Process Times"
   ]
  },
  {
   "cell_type": "code",
   "execution_count": 6,
   "id": "b35eea4b-8c3e-4600-ab63-b2c1ab27e115",
   "metadata": {},
   "outputs": [],
   "source": [
    "P = dict()\n",
    "for aa in assign:\n",
    "    if aa[1] == 'B':\n",
    "        P[aa] = 1.0\n",
    "    else:\n",
    "        P[aa] = 2.0\n",
    "M = 1000\n",
    "P['T3', 'L'] = 20\n",
    "P['T3', 'R'] = 20\n",
    "P['T3', 'B'] = 10"
   ]
  },
  {
   "cell_type": "markdown",
   "id": "a8458486-d7c9-49ed-ac2d-14a9ce9d60f4",
   "metadata": {},
   "source": [
    "## 4. Define Variables"
   ]
  },
  {
   "cell_type": "code",
   "execution_count": 7,
   "id": "bd5dc562-aca9-4f87-b4a2-4b761d5b7f7b",
   "metadata": {},
   "outputs": [],
   "source": [
    "emax = pulp.LpVariable('makespan', 0, 1000)\n",
    "s = pulp.LpVariable.dicts('s', tasks, 0, 1000)\n",
    "delta = pulp.LpVariable.dicts('delta', assign, 0, 1, pulp.LpInteger)\n",
    "y = pulp.LpVariable.dicts('y', pred, 0, 1, pulp.LpInteger)"
   ]
  },
  {
   "cell_type": "markdown",
   "id": "8c37568e-1ec8-47c4-9feb-8e68ea77f383",
   "metadata": {},
   "source": [
    "## 5. Solve the Optimization Model"
   ]
  },
  {
   "cell_type": "code",
   "execution_count": 8,
   "id": "82bd2846-27c0-4d0b-91bc-56b03a711fec",
   "metadata": {},
   "outputs": [
    {
     "name": "stdout",
     "output_type": "stream",
     "text": [
      "11.0\n"
     ]
    }
   ],
   "source": [
    "prob = pulp.LpProblem(\"human-robot-collaboration-task-allocation\", pulp.LpMinimize)\n",
    "prob += emax\n",
    "\n",
    "for i in tasks:\n",
    "    prob += s[i] + pulp.lpSum([delta[i, k] * P[i, k] for k in agents]) <= emax\n",
    "    \n",
    "for i in tasks:\n",
    "    prob += pulp.lpSum([delta[i, k] for k in agents]) == 1\n",
    "\n",
    "for (i, j, k) in pred:\n",
    "    prob += s[i] + P[i, k] <= s[j] + M*(1 - y[i, j, k])\n",
    "\n",
    "for (i, j, k) in pred:\n",
    "    prob += y[i, j, k] + y[j, i, k] <= 1\n",
    "\n",
    "for (i, j, k) in pred:\n",
    "    prob += y[i, j, k] + y[j, i, k] >= delta[i, k] + delta[j, k] - 1\n",
    "\n",
    "for (i, j) in dept_tasks:\n",
    "    prob += s[i] + pulp.lpSum([P[i,k] * delta[i, k] for k in agents]) <= s[j]\n",
    "\n",
    "for (i, j) in simu_tasks:\n",
    "    prob += s[i] == s[j]\n",
    "    \n",
    "prob.solve()\n",
    "print(pulp.value(prob.objective))\n",
    "# for v in prob.variables():\n",
    "#     print(v.name, \"=\", v.varValue)\n",
    "# pulp.LpConstraint(prob)"
   ]
  },
  {
   "cell_type": "markdown",
   "id": "a999d31e-9e37-433a-a933-b67fb7ac467a",
   "metadata": {},
   "source": [
    "## 6. Print the output"
   ]
  },
  {
   "cell_type": "code",
   "execution_count": 9,
   "id": "1bde8589-4b1d-4364-b1f6-859157303e9c",
   "metadata": {},
   "outputs": [
    {
     "name": "stdout",
     "output_type": "stream",
     "text": [
      "Task   Assign    Start    Proc\n",
      "------------------------------------\n",
      "T1     B         0.00     1.00\n",
      "T2     L         1.00     2.00\n",
      "T3     B         1.00     10.00\n",
      "T4     R         1.00     2.00\n",
      "T5     L         5.00     2.00\n",
      "T6     R         5.00     2.00\n",
      "T7     L         3.00     2.00\n",
      "T8     R         3.00     2.00\n"
     ]
    }
   ],
   "source": [
    "assign_opt_task = dict()\n",
    "proctime_opt_task = dict()\n",
    "for ii in tasks:\n",
    "    assign_opt_task[ii] = [k for (i, k) in list(delta) if (delta[i,k].value() == 1 and i == ii)][0]\n",
    "    proctime_opt_task[ii] = [P[i,k] for (i, k) in list(delta) if (delta[i,k].value() == 1 and i == ii)][0]\n",
    "\n",
    "print('Task   '+'Assign    '+'Start    '+'Proc')\n",
    "print('------------------------------------')\n",
    "for i in tasks:\n",
    "    \n",
    "    print(i+'     '+ assign_opt_task[i]+'         '+ '{:.2f}'.format(s[i].value())+'     '+'{:.2f}'.format(proctime_opt_task[i]))"
   ]
  },
  {
   "cell_type": "code",
   "execution_count": 10,
   "id": "c23e7c8a-be5a-4f41-a3fa-530d2fc02e27",
   "metadata": {},
   "outputs": [
    {
     "name": "stdout",
     "output_type": "stream",
     "text": [
      "{'L': [(1.0, 2.0), (3.0, 2.0), (5.0, 2.0)], 'R': [(1.0, 2.0), (3.0, 2.0), (5.0, 2.0)], 'B': [(0.0, 1.0), (1.0, 10)]}\n"
     ]
    }
   ],
   "source": [
    "assign_opt = dict()\n",
    "schedule_opt = dict()\n",
    "for kk in agents:\n",
    "    unsorted_tasks = [i for (i, k) in list(delta) if (delta[i,k].value() == 1 and k == kk)]\n",
    "    unsorted_start = [s[i].value() for i in unsorted_tasks]\n",
    "    sorted_tasks = [i for _,i in sorted(zip(unsorted_start,unsorted_tasks))]\n",
    "    assign_opt[kk]  = sorted_tasks\n",
    "    schedule_opt[kk] = [(s[i].value(), P[i,kk]) for i in assign_opt[kk]]\n",
    "print(schedule_opt)"
   ]
  },
  {
   "cell_type": "markdown",
   "id": "0bf315da-33bb-43f3-9901-a08b58218ff0",
   "metadata": {},
   "source": [
    "## 7. Gantt Chart"
   ]
  },
  {
   "cell_type": "code",
   "execution_count": 11,
   "id": "5da4c76b-7da4-4cfc-b393-6bbd0da82e70",
   "metadata": {},
   "outputs": [
    {
     "data": {
      "image/png": "[encoded data removed]",
      "text/plain": [
       "<Figure size 640x480 with 1 Axes>"
      ]
     },
     "metadata": {},
     "output_type": "display_data"
    }
   ],
   "source": [
    "#Gantt Chart\n",
    "# Importing the matplotlib.pyplot\n",
    "import matplotlib.pyplot as plt\n",
    "\n",
    "# Declaring a figure \"gnt\"\n",
    "fig, gnt = plt.subplots()\n",
    "\n",
    "# Setting Y-axis limits\n",
    "gnt.set_ylim(0, 50)\n",
    "\n",
    "# Setting X-axis limits\n",
    "gnt.set_xlim(0, emax.value())\n",
    "\n",
    "# Setting labels for x-axis and y-axis\n",
    "gnt.set_xlabel('second since start')\n",
    "gnt.set_ylabel('Agent')\n",
    "\n",
    "# Setting ticks on y-axis\n",
    "gnt.set_yticks([15, 25, 35])\n",
    "# Labelling tickes of y-axis\n",
    "gnt.set_yticklabels(['B', 'R', 'L'])\n",
    "\n",
    "# Setting graph attribute\n",
    "# gnt.grid(True, axis='y')\n",
    "\n",
    "# Declaring a bar in schedule\n",
    "gnt.broken_barh(schedule_opt['B'], (10, 9),\n",
    "                         facecolors=('r'),\n",
    "                         edgecolors=('k'),\n",
    "                         alpha = .3)\n",
    "# Declaring multiple bars in at same level and same width\n",
    "gnt.broken_barh(schedule_opt['R'], (20, 9),\n",
    "                         facecolors=('b'),\n",
    "                         edgecolors=('k'),\n",
    "                         alpha = .3)\n",
    "gnt.broken_barh(schedule_opt['L'], (30, 9),\n",
    "                         facecolors=('g'),\n",
    "                         edgecolors=('k'), \n",
    "                         alpha = .3)\n",
    "\n",
    "# Delaring task name in schedules\n",
    "for (sch, task) in zip(schedule_opt['B'],assign_opt['B']):\n",
    "    gnt.text(sch[0]+(.45)*sch[1], 15-1, task)\n",
    "for (sch, task) in zip(schedule_opt['R'],assign_opt['R']):\n",
    "    gnt.text(sch[0]+(.45)*sch[1], 25-1, task)\n",
    "for (sch, task) in zip(schedule_opt['L'],assign_opt['L']):\n",
    "    gnt.text(sch[0]+(.45)*sch[1], 35-1, task)"
   ]
  }
 ],
 "metadata": {
  "kernelspec": {
   "display_name": "Python 3",
   "language": "python",
   "name": "python3"
  },
  "language_info": {
   "codemirror_mode": {
    "name": "ipython",
    "version": 3
   },
   "file_extension": ".py",
   "mimetype": "text/x-python",
   "name": "python",
   "nbconvert_exporter": "python",
   "pygments_lexer": "ipython3",
   "version": "3.10.5"
  }
 },
 "nbformat": 4,
 "nbformat_minor": 5
}
